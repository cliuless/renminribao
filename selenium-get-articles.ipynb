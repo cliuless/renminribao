{
 "cells": [
  {
   "cell_type": "code",
   "execution_count": 56,
   "metadata": {},
   "outputs": [],
   "source": [
    "from selenium import webdriver\n",
    "from selenium.webdriver.common.keys import Keys\n",
    "from selenium.webdriver.common.action_chains import ActionChains\n",
    "import pandas as pd\n",
    "import numpy as np\n",
    "import os\n",
    "import wget"
   ]
  },
  {
   "cell_type": "code",
   "execution_count": 96,
   "metadata": {},
   "outputs": [],
   "source": [
    "# mv chrome driver from Downloads to Applications \n",
    "# mv chrome driver from Downloads to Applications \n",
    "chromedriver = \"/usr/local/Caskroom/chromedriver/2.41/chromedriver\"\n",
    "os.environ[\"webdriver.chrome.driver\"] = chromedriver\n",
    "\n",
    "\n"
   ]
  },
  {
   "cell_type": "code",
   "execution_count": 133,
   "metadata": {},
   "outputs": [],
   "source": [
    "website = \"http://people.com.cn/\"\n",
    "driver = webdriver.Chrome(chromedriver)\n",
    "driver.get(website)"
   ]
  },
  {
   "cell_type": "markdown",
   "metadata": {},
   "source": [
    "## do search and get article url\n"
   ]
  },
  {
   "cell_type": "code",
   "execution_count": 134,
   "metadata": {},
   "outputs": [],
   "source": [
    "hover_object = driver.find_element_by_id(\"search_button\")\n",
    "hover = ActionChains(driver).move_to_element(hover_object)\n",
    "hover.perform()\n",
    "\n",
    "search_form = driver.find_element_by_id(\"keyword\")\n",
    "search_form.clear()\n",
    "search_form.send_keys(\"家庭和谐 社会稳定\")\n",
    "search_form.send_keys(Keys.RETURN)"
   ]
  },
  {
   "cell_type": "code",
   "execution_count": 135,
   "metadata": {},
   "outputs": [],
   "source": [
    "list_ = []"
   ]
  },
  {
   "cell_type": "code",
   "execution_count": 136,
   "metadata": {},
   "outputs": [],
   "source": [
    "driver.switch_to_window(driver.window_handles[1])"
   ]
  },
  {
   "cell_type": "code",
   "execution_count": 139,
   "metadata": {},
   "outputs": [],
   "source": [
    "# manually click on next\n",
    "find_links = driver.find_elements_by_xpath('//ul/li/a[contains(@href, \"people.com.cn/n\")]')\n",
    "list_.extend([link.get_attribute('href') for link in find_links])\n"
   ]
  },
  {
   "cell_type": "code",
   "execution_count": 140,
   "metadata": {},
   "outputs": [
    {
     "data": {
      "text/plain": [
       "['http://legal.people.com.cn/n1/2018/0810/c42510-30221523.html',\n",
       " 'http://leaders.people.com.cn/n1/2018/0711/c178291-30139820.html',\n",
       " 'http://opinion.people.com.cn/n1/2018/0622/c1003-30077559.html',\n",
       " 'http://dangjian.people.com.cn/n1/2018/0620/c117092-30068068.html',\n",
       " 'http://opinion.people.com.cn/n1/2018/0620/c1003-30067229.html',\n",
       " 'http://theory.people.com.cn/n1/2018/0418/c40531-29932970.html',\n",
       " 'http://opinion.people.com.cn/n1/2018/0418/c1003-29932683.html',\n",
       " 'http://pic.people.com.cn/n1/2018/0326/c1016-29888895.html',\n",
       " 'http://cpc.people.com.cn/n1/2018/0326/c64094-29887716.html',\n",
       " 'http://legal.people.com.cn/n1/2018/0326/c42510-29887608.html',\n",
       " 'http://legal.people.com.cn/n1/2018/0325/c42510-29887423.html',\n",
       " 'http://politics.people.com.cn/n1/2018/0325/c1001-29887387.html',\n",
       " 'http://legal.people.com.cn/n1/2018/0325/c42510-29887379.html',\n",
       " 'http://cpc.people.com.cn/n1/2018/0310/c64387-29859461.html',\n",
       " 'http://rmfp.people.com.cn/n1/2018/0226/c406725-29833963.html',\n",
       " 'http://politics.people.com.cn/n1/2018/0226/c1001-29833850.html',\n",
       " 'http://society.people.com.cn/n1/2018/0226/c1008-29833599.html',\n",
       " 'http://finance.people.com.cn/n1/2018/0214/c1004-29823597.html',\n",
       " 'http://legal.people.com.cn/n1/2018/0214/c42510-29823331.html',\n",
       " 'http://house.people.com.cn/n1/2018/0212/c164220-29819817.html',\n",
       " 'http://finance.people.com.cn/n1/2018/0212/c1004-29819592.html',\n",
       " 'http://theory.people.com.cn/n1/2018/0212/c40531-29819497.html',\n",
       " 'http://politics.people.com.cn/n1/2018/0212/c1001-29819211.html',\n",
       " 'http://politics.people.com.cn/n1/2018/0208/c1001-29813645.html',\n",
       " 'http://legal.people.com.cn/n1/2018/0208/c42510-29812259.html',\n",
       " 'http://cpc.people.com.cn/n1/2018/0208/c64387-29812060.html',\n",
       " 'http://politics.people.com.cn/n1/2018/0208/c1001-29811957.html',\n",
       " 'http://politics.people.com.cn/n1/2018/0207/c1001-29811750.html',\n",
       " 'http://health.people.com.cn/n1/2018/0112/c14739-29760684.html',\n",
       " 'http://theory.people.com.cn/n1/2018/0112/c40531-29760344.html',\n",
       " 'http://opinion.people.com.cn/n1/2018/0112/c1003-29760063.html',\n",
       " 'http://www.people.com.cn/n1/2017/1130/c415510-29677663.html',\n",
       " 'http://history.people.com.cn/n1/2017/1103/c372327-29626078.html',\n",
       " 'http://acwf.people.com.cn/n1/2017/0825/c99045-29495292.html',\n",
       " 'http://legal.people.com.cn/n1/2017/0801/c42510-29442550.html',\n",
       " 'http://pic.people.com.cn/n1/2017/0728/c1016-29434768.html',\n",
       " 'http://politics.people.com.cn/n1/2017/0728/c1001-29433926.html']"
      ]
     },
     "execution_count": 140,
     "metadata": {},
     "output_type": "execute_result"
    }
   ],
   "source": [
    "list_ "
   ]
  },
  {
   "cell_type": "code",
   "execution_count": null,
   "metadata": {},
   "outputs": [],
   "source": [
    "# next_page = driver.find_element_by_xpath('//div/div/div/a[contains(text(),\"1\")]')\n",
    "# next_page.click()"
   ]
  },
  {
   "cell_type": "code",
   "execution_count": 104,
   "metadata": {},
   "outputs": [],
   "source": [
    "list_ = []\n",
    "# while True:\n",
    "find_links = driver.find_elements_by_xpath('//ul/li/a[contains(@href, \"people.com.cn/n\")]')\n",
    "list_.extend([link.get_attribute('href') for link in find_links])\n",
    "next_page = driver.find_element_by_xpath('//div/div/div/a[contains(text(),\"1\")]')\n",
    "next_page.click()"
   ]
  },
  {
   "cell_type": "code",
   "execution_count": null,
   "metadata": {},
   "outputs": [],
   "source": []
  },
  {
   "cell_type": "markdown",
   "metadata": {},
   "source": [
    "### each page, scraping"
   ]
  },
  {
   "cell_type": "code",
   "execution_count": 163,
   "metadata": {},
   "outputs": [],
   "source": [
    "link = 'http://theory.people.com.cn/n1/2018/0112/c40531-29760344.html'\n",
    "\n",
    "driver = webdriver.Chrome(chromedriver)\n",
    "driver.get(link)\n"
   ]
  },
  {
   "cell_type": "code",
   "execution_count": 164,
   "metadata": {},
   "outputs": [],
   "source": [
    "title = driver.find_element_by_tag_name('h1')"
   ]
  },
  {
   "cell_type": "code",
   "execution_count": 165,
   "metadata": {},
   "outputs": [
    {
     "data": {
      "text/plain": [
       "'实施健康中国战略'"
      ]
     },
     "execution_count": 165,
     "metadata": {},
     "output_type": "execute_result"
    }
   ],
   "source": [
    "title.text\n",
    "# 'This site can’t be reached'"
   ]
  },
  {
   "cell_type": "code",
   "execution_count": 169,
   "metadata": {},
   "outputs": [],
   "source": [
    "# for cpc urls\n",
    "date = driver.find_element_by_class_name(\"sou\")"
   ]
  },
  {
   "cell_type": "code",
   "execution_count": 170,
   "metadata": {},
   "outputs": [
    {
     "data": {
      "text/plain": [
       "'2018年01月12日08:03    来源：人民网－人民日报'"
      ]
     },
     "execution_count": 170,
     "metadata": {},
     "output_type": "execute_result"
    }
   ],
   "source": [
    "date.text"
   ]
  },
  {
   "cell_type": "code",
   "execution_count": 171,
   "metadata": {
    "scrolled": true
   },
   "outputs": [
    {
     "ename": "NoSuchElementException",
     "evalue": "Message: no such element: Unable to locate element: {\"method\":\"class name\",\"selector\":\"box01\"}\n  (Session info: chrome=68.0.3440.106)\n  (Driver info: chromedriver=2.41.578706 (5f725d1b4f0a4acbf5259df887244095596231db),platform=Mac OS X 10.13.4 x86_64)\n",
     "output_type": "error",
     "traceback": [
      "\u001b[0;31m---------------------------------------------------------------------------\u001b[0m",
      "\u001b[0;31mNoSuchElementException\u001b[0m                    Traceback (most recent call last)",
      "\u001b[0;32m<ipython-input-171-870172b8ae1e>\u001b[0m in \u001b[0;36m<module>\u001b[0;34m()\u001b[0m\n\u001b[1;32m      1\u001b[0m \u001b[0;31m# for other urls\u001b[0m\u001b[0;34m\u001b[0m\u001b[0;34m\u001b[0m\u001b[0m\n\u001b[0;32m----> 2\u001b[0;31m \u001b[0mdate\u001b[0m \u001b[0;34m=\u001b[0m \u001b[0mdriver\u001b[0m\u001b[0;34m.\u001b[0m\u001b[0mfind_element_by_class_name\u001b[0m\u001b[0;34m(\u001b[0m\u001b[0;34m\"box01\"\u001b[0m\u001b[0;34m)\u001b[0m\u001b[0;34m;\u001b[0m\u001b[0;34m\u001b[0m\u001b[0m\n\u001b[0m",
      "\u001b[0;32m~/.virtualenvs/nvsheng/lib/python3.6/site-packages/selenium/webdriver/remote/webdriver.py\u001b[0m in \u001b[0;36mfind_element_by_class_name\u001b[0;34m(self, name)\u001b[0m\n\u001b[1;32m    561\u001b[0m             \u001b[0melement\u001b[0m \u001b[0;34m=\u001b[0m \u001b[0mdriver\u001b[0m\u001b[0;34m.\u001b[0m\u001b[0mfind_element_by_class_name\u001b[0m\u001b[0;34m(\u001b[0m\u001b[0;34m'foo'\u001b[0m\u001b[0;34m)\u001b[0m\u001b[0;34m\u001b[0m\u001b[0m\n\u001b[1;32m    562\u001b[0m         \"\"\"\n\u001b[0;32m--> 563\u001b[0;31m         \u001b[0;32mreturn\u001b[0m \u001b[0mself\u001b[0m\u001b[0;34m.\u001b[0m\u001b[0mfind_element\u001b[0m\u001b[0;34m(\u001b[0m\u001b[0mby\u001b[0m\u001b[0;34m=\u001b[0m\u001b[0mBy\u001b[0m\u001b[0;34m.\u001b[0m\u001b[0mCLASS_NAME\u001b[0m\u001b[0;34m,\u001b[0m \u001b[0mvalue\u001b[0m\u001b[0;34m=\u001b[0m\u001b[0mname\u001b[0m\u001b[0;34m)\u001b[0m\u001b[0;34m\u001b[0m\u001b[0m\n\u001b[0m\u001b[1;32m    564\u001b[0m \u001b[0;34m\u001b[0m\u001b[0m\n\u001b[1;32m    565\u001b[0m     \u001b[0;32mdef\u001b[0m \u001b[0mfind_elements_by_class_name\u001b[0m\u001b[0;34m(\u001b[0m\u001b[0mself\u001b[0m\u001b[0;34m,\u001b[0m \u001b[0mname\u001b[0m\u001b[0;34m)\u001b[0m\u001b[0;34m:\u001b[0m\u001b[0;34m\u001b[0m\u001b[0m\n",
      "\u001b[0;32m~/.virtualenvs/nvsheng/lib/python3.6/site-packages/selenium/webdriver/remote/webdriver.py\u001b[0m in \u001b[0;36mfind_element\u001b[0;34m(self, by, value)\u001b[0m\n\u001b[1;32m    964\u001b[0m         return self.execute(Command.FIND_ELEMENT, {\n\u001b[1;32m    965\u001b[0m             \u001b[0;34m'using'\u001b[0m\u001b[0;34m:\u001b[0m \u001b[0mby\u001b[0m\u001b[0;34m,\u001b[0m\u001b[0;34m\u001b[0m\u001b[0m\n\u001b[0;32m--> 966\u001b[0;31m             'value': value})['value']\n\u001b[0m\u001b[1;32m    967\u001b[0m \u001b[0;34m\u001b[0m\u001b[0m\n\u001b[1;32m    968\u001b[0m     \u001b[0;32mdef\u001b[0m \u001b[0mfind_elements\u001b[0m\u001b[0;34m(\u001b[0m\u001b[0mself\u001b[0m\u001b[0;34m,\u001b[0m \u001b[0mby\u001b[0m\u001b[0;34m=\u001b[0m\u001b[0mBy\u001b[0m\u001b[0;34m.\u001b[0m\u001b[0mID\u001b[0m\u001b[0;34m,\u001b[0m \u001b[0mvalue\u001b[0m\u001b[0;34m=\u001b[0m\u001b[0;32mNone\u001b[0m\u001b[0;34m)\u001b[0m\u001b[0;34m:\u001b[0m\u001b[0;34m\u001b[0m\u001b[0m\n",
      "\u001b[0;32m~/.virtualenvs/nvsheng/lib/python3.6/site-packages/selenium/webdriver/remote/webdriver.py\u001b[0m in \u001b[0;36mexecute\u001b[0;34m(self, driver_command, params)\u001b[0m\n\u001b[1;32m    318\u001b[0m         \u001b[0mresponse\u001b[0m \u001b[0;34m=\u001b[0m \u001b[0mself\u001b[0m\u001b[0;34m.\u001b[0m\u001b[0mcommand_executor\u001b[0m\u001b[0;34m.\u001b[0m\u001b[0mexecute\u001b[0m\u001b[0;34m(\u001b[0m\u001b[0mdriver_command\u001b[0m\u001b[0;34m,\u001b[0m \u001b[0mparams\u001b[0m\u001b[0;34m)\u001b[0m\u001b[0;34m\u001b[0m\u001b[0m\n\u001b[1;32m    319\u001b[0m         \u001b[0;32mif\u001b[0m \u001b[0mresponse\u001b[0m\u001b[0;34m:\u001b[0m\u001b[0;34m\u001b[0m\u001b[0m\n\u001b[0;32m--> 320\u001b[0;31m             \u001b[0mself\u001b[0m\u001b[0;34m.\u001b[0m\u001b[0merror_handler\u001b[0m\u001b[0;34m.\u001b[0m\u001b[0mcheck_response\u001b[0m\u001b[0;34m(\u001b[0m\u001b[0mresponse\u001b[0m\u001b[0;34m)\u001b[0m\u001b[0;34m\u001b[0m\u001b[0m\n\u001b[0m\u001b[1;32m    321\u001b[0m             response['value'] = self._unwrap_value(\n\u001b[1;32m    322\u001b[0m                 response.get('value', None))\n",
      "\u001b[0;32m~/.virtualenvs/nvsheng/lib/python3.6/site-packages/selenium/webdriver/remote/errorhandler.py\u001b[0m in \u001b[0;36mcheck_response\u001b[0;34m(self, response)\u001b[0m\n\u001b[1;32m    240\u001b[0m                 \u001b[0malert_text\u001b[0m \u001b[0;34m=\u001b[0m \u001b[0mvalue\u001b[0m\u001b[0;34m[\u001b[0m\u001b[0;34m'alert'\u001b[0m\u001b[0;34m]\u001b[0m\u001b[0;34m.\u001b[0m\u001b[0mget\u001b[0m\u001b[0;34m(\u001b[0m\u001b[0;34m'text'\u001b[0m\u001b[0;34m)\u001b[0m\u001b[0;34m\u001b[0m\u001b[0m\n\u001b[1;32m    241\u001b[0m             \u001b[0;32mraise\u001b[0m \u001b[0mexception_class\u001b[0m\u001b[0;34m(\u001b[0m\u001b[0mmessage\u001b[0m\u001b[0;34m,\u001b[0m \u001b[0mscreen\u001b[0m\u001b[0;34m,\u001b[0m \u001b[0mstacktrace\u001b[0m\u001b[0;34m,\u001b[0m \u001b[0malert_text\u001b[0m\u001b[0;34m)\u001b[0m\u001b[0;34m\u001b[0m\u001b[0m\n\u001b[0;32m--> 242\u001b[0;31m         \u001b[0;32mraise\u001b[0m \u001b[0mexception_class\u001b[0m\u001b[0;34m(\u001b[0m\u001b[0mmessage\u001b[0m\u001b[0;34m,\u001b[0m \u001b[0mscreen\u001b[0m\u001b[0;34m,\u001b[0m \u001b[0mstacktrace\u001b[0m\u001b[0;34m)\u001b[0m\u001b[0;34m\u001b[0m\u001b[0m\n\u001b[0m\u001b[1;32m    243\u001b[0m \u001b[0;34m\u001b[0m\u001b[0m\n\u001b[1;32m    244\u001b[0m     \u001b[0;32mdef\u001b[0m \u001b[0m_value_or_default\u001b[0m\u001b[0;34m(\u001b[0m\u001b[0mself\u001b[0m\u001b[0;34m,\u001b[0m \u001b[0mobj\u001b[0m\u001b[0;34m,\u001b[0m \u001b[0mkey\u001b[0m\u001b[0;34m,\u001b[0m \u001b[0mdefault\u001b[0m\u001b[0;34m)\u001b[0m\u001b[0;34m:\u001b[0m\u001b[0;34m\u001b[0m\u001b[0m\n",
      "\u001b[0;31mNoSuchElementException\u001b[0m: Message: no such element: Unable to locate element: {\"method\":\"class name\",\"selector\":\"box01\"}\n  (Session info: chrome=68.0.3440.106)\n  (Driver info: chromedriver=2.41.578706 (5f725d1b4f0a4acbf5259df887244095596231db),platform=Mac OS X 10.13.4 x86_64)\n"
     ]
    }
   ],
   "source": [
    "# for other urls\n",
    "date = driver.find_element_by_class_name(\"box01\")"
   ]
  },
  {
   "cell_type": "code",
   "execution_count": 172,
   "metadata": {
    "scrolled": true
   },
   "outputs": [
    {
     "ename": "NoSuchElementException",
     "evalue": "Message: no such element: Unable to locate element: {\"method\":\"class name\",\"selector\":\"box_con\"}\n  (Session info: chrome=68.0.3440.106)\n  (Driver info: chromedriver=2.41.578706 (5f725d1b4f0a4acbf5259df887244095596231db),platform=Mac OS X 10.13.4 x86_64)\n",
     "output_type": "error",
     "traceback": [
      "\u001b[0;31m---------------------------------------------------------------------------\u001b[0m",
      "\u001b[0;31mNoSuchElementException\u001b[0m                    Traceback (most recent call last)",
      "\u001b[0;32m<ipython-input-172-0730b199400b>\u001b[0m in \u001b[0;36m<module>\u001b[0;34m()\u001b[0m\n\u001b[0;32m----> 1\u001b[0;31m \u001b[0mbox_of_words\u001b[0m \u001b[0;34m=\u001b[0m \u001b[0mdriver\u001b[0m\u001b[0;34m.\u001b[0m\u001b[0mfind_element_by_class_name\u001b[0m\u001b[0;34m(\u001b[0m\u001b[0;34m'box_con'\u001b[0m\u001b[0;34m)\u001b[0m\u001b[0;34m\u001b[0m\u001b[0m\n\u001b[0m\u001b[1;32m      2\u001b[0m \u001b[0mwords\u001b[0m \u001b[0;34m=\u001b[0m \u001b[0mbox_of_words\u001b[0m\u001b[0;34m.\u001b[0m\u001b[0mfind_elements_by_tag_name\u001b[0m\u001b[0;34m(\u001b[0m\u001b[0;34m'p'\u001b[0m\u001b[0;34m)\u001b[0m\u001b[0;34m\u001b[0m\u001b[0m\n",
      "\u001b[0;32m~/.virtualenvs/nvsheng/lib/python3.6/site-packages/selenium/webdriver/remote/webdriver.py\u001b[0m in \u001b[0;36mfind_element_by_class_name\u001b[0;34m(self, name)\u001b[0m\n\u001b[1;32m    561\u001b[0m             \u001b[0melement\u001b[0m \u001b[0;34m=\u001b[0m \u001b[0mdriver\u001b[0m\u001b[0;34m.\u001b[0m\u001b[0mfind_element_by_class_name\u001b[0m\u001b[0;34m(\u001b[0m\u001b[0;34m'foo'\u001b[0m\u001b[0;34m)\u001b[0m\u001b[0;34m\u001b[0m\u001b[0m\n\u001b[1;32m    562\u001b[0m         \"\"\"\n\u001b[0;32m--> 563\u001b[0;31m         \u001b[0;32mreturn\u001b[0m \u001b[0mself\u001b[0m\u001b[0;34m.\u001b[0m\u001b[0mfind_element\u001b[0m\u001b[0;34m(\u001b[0m\u001b[0mby\u001b[0m\u001b[0;34m=\u001b[0m\u001b[0mBy\u001b[0m\u001b[0;34m.\u001b[0m\u001b[0mCLASS_NAME\u001b[0m\u001b[0;34m,\u001b[0m \u001b[0mvalue\u001b[0m\u001b[0;34m=\u001b[0m\u001b[0mname\u001b[0m\u001b[0;34m)\u001b[0m\u001b[0;34m\u001b[0m\u001b[0m\n\u001b[0m\u001b[1;32m    564\u001b[0m \u001b[0;34m\u001b[0m\u001b[0m\n\u001b[1;32m    565\u001b[0m     \u001b[0;32mdef\u001b[0m \u001b[0mfind_elements_by_class_name\u001b[0m\u001b[0;34m(\u001b[0m\u001b[0mself\u001b[0m\u001b[0;34m,\u001b[0m \u001b[0mname\u001b[0m\u001b[0;34m)\u001b[0m\u001b[0;34m:\u001b[0m\u001b[0;34m\u001b[0m\u001b[0m\n",
      "\u001b[0;32m~/.virtualenvs/nvsheng/lib/python3.6/site-packages/selenium/webdriver/remote/webdriver.py\u001b[0m in \u001b[0;36mfind_element\u001b[0;34m(self, by, value)\u001b[0m\n\u001b[1;32m    964\u001b[0m         return self.execute(Command.FIND_ELEMENT, {\n\u001b[1;32m    965\u001b[0m             \u001b[0;34m'using'\u001b[0m\u001b[0;34m:\u001b[0m \u001b[0mby\u001b[0m\u001b[0;34m,\u001b[0m\u001b[0;34m\u001b[0m\u001b[0m\n\u001b[0;32m--> 966\u001b[0;31m             'value': value})['value']\n\u001b[0m\u001b[1;32m    967\u001b[0m \u001b[0;34m\u001b[0m\u001b[0m\n\u001b[1;32m    968\u001b[0m     \u001b[0;32mdef\u001b[0m \u001b[0mfind_elements\u001b[0m\u001b[0;34m(\u001b[0m\u001b[0mself\u001b[0m\u001b[0;34m,\u001b[0m \u001b[0mby\u001b[0m\u001b[0;34m=\u001b[0m\u001b[0mBy\u001b[0m\u001b[0;34m.\u001b[0m\u001b[0mID\u001b[0m\u001b[0;34m,\u001b[0m \u001b[0mvalue\u001b[0m\u001b[0;34m=\u001b[0m\u001b[0;32mNone\u001b[0m\u001b[0;34m)\u001b[0m\u001b[0;34m:\u001b[0m\u001b[0;34m\u001b[0m\u001b[0m\n",
      "\u001b[0;32m~/.virtualenvs/nvsheng/lib/python3.6/site-packages/selenium/webdriver/remote/webdriver.py\u001b[0m in \u001b[0;36mexecute\u001b[0;34m(self, driver_command, params)\u001b[0m\n\u001b[1;32m    318\u001b[0m         \u001b[0mresponse\u001b[0m \u001b[0;34m=\u001b[0m \u001b[0mself\u001b[0m\u001b[0;34m.\u001b[0m\u001b[0mcommand_executor\u001b[0m\u001b[0;34m.\u001b[0m\u001b[0mexecute\u001b[0m\u001b[0;34m(\u001b[0m\u001b[0mdriver_command\u001b[0m\u001b[0;34m,\u001b[0m \u001b[0mparams\u001b[0m\u001b[0;34m)\u001b[0m\u001b[0;34m\u001b[0m\u001b[0m\n\u001b[1;32m    319\u001b[0m         \u001b[0;32mif\u001b[0m \u001b[0mresponse\u001b[0m\u001b[0;34m:\u001b[0m\u001b[0;34m\u001b[0m\u001b[0m\n\u001b[0;32m--> 320\u001b[0;31m             \u001b[0mself\u001b[0m\u001b[0;34m.\u001b[0m\u001b[0merror_handler\u001b[0m\u001b[0;34m.\u001b[0m\u001b[0mcheck_response\u001b[0m\u001b[0;34m(\u001b[0m\u001b[0mresponse\u001b[0m\u001b[0;34m)\u001b[0m\u001b[0;34m\u001b[0m\u001b[0m\n\u001b[0m\u001b[1;32m    321\u001b[0m             response['value'] = self._unwrap_value(\n\u001b[1;32m    322\u001b[0m                 response.get('value', None))\n",
      "\u001b[0;32m~/.virtualenvs/nvsheng/lib/python3.6/site-packages/selenium/webdriver/remote/errorhandler.py\u001b[0m in \u001b[0;36mcheck_response\u001b[0;34m(self, response)\u001b[0m\n\u001b[1;32m    240\u001b[0m                 \u001b[0malert_text\u001b[0m \u001b[0;34m=\u001b[0m \u001b[0mvalue\u001b[0m\u001b[0;34m[\u001b[0m\u001b[0;34m'alert'\u001b[0m\u001b[0;34m]\u001b[0m\u001b[0;34m.\u001b[0m\u001b[0mget\u001b[0m\u001b[0;34m(\u001b[0m\u001b[0;34m'text'\u001b[0m\u001b[0;34m)\u001b[0m\u001b[0;34m\u001b[0m\u001b[0m\n\u001b[1;32m    241\u001b[0m             \u001b[0;32mraise\u001b[0m \u001b[0mexception_class\u001b[0m\u001b[0;34m(\u001b[0m\u001b[0mmessage\u001b[0m\u001b[0;34m,\u001b[0m \u001b[0mscreen\u001b[0m\u001b[0;34m,\u001b[0m \u001b[0mstacktrace\u001b[0m\u001b[0;34m,\u001b[0m \u001b[0malert_text\u001b[0m\u001b[0;34m)\u001b[0m\u001b[0;34m\u001b[0m\u001b[0m\n\u001b[0;32m--> 242\u001b[0;31m         \u001b[0;32mraise\u001b[0m \u001b[0mexception_class\u001b[0m\u001b[0;34m(\u001b[0m\u001b[0mmessage\u001b[0m\u001b[0;34m,\u001b[0m \u001b[0mscreen\u001b[0m\u001b[0;34m,\u001b[0m \u001b[0mstacktrace\u001b[0m\u001b[0;34m)\u001b[0m\u001b[0;34m\u001b[0m\u001b[0m\n\u001b[0m\u001b[1;32m    243\u001b[0m \u001b[0;34m\u001b[0m\u001b[0m\n\u001b[1;32m    244\u001b[0m     \u001b[0;32mdef\u001b[0m \u001b[0m_value_or_default\u001b[0m\u001b[0;34m(\u001b[0m\u001b[0mself\u001b[0m\u001b[0;34m,\u001b[0m \u001b[0mobj\u001b[0m\u001b[0;34m,\u001b[0m \u001b[0mkey\u001b[0m\u001b[0;34m,\u001b[0m \u001b[0mdefault\u001b[0m\u001b[0;34m)\u001b[0m\u001b[0;34m:\u001b[0m\u001b[0;34m\u001b[0m\u001b[0m\n",
      "\u001b[0;31mNoSuchElementException\u001b[0m: Message: no such element: Unable to locate element: {\"method\":\"class name\",\"selector\":\"box_con\"}\n  (Session info: chrome=68.0.3440.106)\n  (Driver info: chromedriver=2.41.578706 (5f725d1b4f0a4acbf5259df887244095596231db),platform=Mac OS X 10.13.4 x86_64)\n"
     ]
    }
   ],
   "source": [
    "box_of_words = driver.find_element_by_class_name('box_con')\n",
    "words = box_of_words.find_elements_by_tag_name('p')"
   ]
  },
  {
   "cell_type": "code",
   "execution_count": 158,
   "metadata": {
    "collapsed": true
   },
   "outputs": [
    {
     "name": "stdout",
     "output_type": "stream",
     "text": [
      "“家和万事兴,家齐国安宁。”婚姻家庭和睦幸福,是人民群众美好生活的重要组成部分。\n",
      "自2016年5月启动家事审判改革试点工作,两年多时间,贵州省黔南州三都水族自治县人民法院探索出家事案件心理辅导干预、家事调查、婚姻冷静期、诉前调解、案后回访等多项制度,并在此基础上逐步形成了“12345”家事审判工作模式。目前,这一模式已在全州法院系统推广。\n",
      "“12345”家事审判工作模式即规范一个诉讼程序,出台《家事诉讼程序操作规程(试行)》；夯实组织保障、设施保障两项基础保障制度；建立多元化调解、专业咨询辅导人员协助审理、反家庭暴力联动三项机制；落实离婚案件财产申报、聘任家事调查员、创新离婚证明书保护隐私、家事案件回访检验四项改革措施；贯彻调解优先、不公开审理、当事人亲自到庭、未成年人权益保护、法官依职权干预五项审判原则。\n",
      "三都县法院院长李德林说,家事审判注重以维护婚姻家庭稳定,将家事审判的司法功能和社会功能结合起来,在案件审判中以家庭为本位,推动家事司法向“稳家、保幼、重老、扶弱”理念转变,以实现未成年人利益最大化,维护家庭和谐稳定。\n",
      "家事审判法庭温馨舒适\n",
      "步入三都县法院家事审判法庭,100多平米的大房间内,崭新的沙发按照田字形摆设,由三张小茶椅拼凑而成的大茶椅上,摆放着两盆盆景。左右两边的墙壁上挂着“家和万事兴”等条幅,与常见的庄严法庭相比,这里就像一个温馨的客厅。\n",
      "“构建一个和谐温馨的氛围,将极大降低双方当事人的愤怒情绪,有利于家事纠纷的有效化解,这也是法庭修饰布置的初衷。”三都县法院家事审判庭副庭长王秀芬介绍说。\n",
      "作为全国唯一的水族自治县,三都县法院结合当地少数民族的习俗等特点,从全院审判人员中选调法律法规熟悉、庭审技巧娴熟、理论水平较高、审判经验丰富、了解民情风俗的优秀法官组建独立的家事审判团队,挂牌成立家事审判法庭,专职审理家事案件。\n",
      "目前,这一审判团队共有员额法官3名、法官助理1名、书记员3名。\n",
      "三都县法院副院长包汉琼说,家事审判法庭,凸显出家庭的和谐平等、温暖舒适的氛围,淡化当事双方对立情绪,有利于法官对双方当事人进行心理疏导。同时,通过设立“家事调解室”“探视室”“心理咨询室”“亲情互动室”“当事人休息室”等配套设施,打造“一庭五室”温馨平台,促进家事纠纷案结、事了、人和。\n",
      "诉讼程序灵活契合实际\n",
      "“有水方成洋,有树才成林。幸福一家人,何必去离分。劝慰都和好,建立好家庭,不伤父母心,对得起神灵……”前不久,在三都县法院诉前调解室内,家事调解员当着两夫妻及双方父母的面儿,唱起这首苗歌。\n",
      "歌声唱罢,家事调解员先是劝解原告,又批评被告,最后在双方父母的共同努力下,开始还怒言“不离不行”的两口子终于惭愧地垂首,重归于好。\n",
      "“受理此案后,我们走访了双方当事人家属及其邻居、工作单位,了解到两夫妻虽是父母指定婚姻,但婚后两人感情一直较好,此次起诉离婚,也是因生活琐事争吵造成。于是,我们将案件分流到诉前调解室由家事调解员进行调解。”三都县法院家事审判庭庭长王颖说。\n",
      "为保证家事审判工作常态化、制度化和规范化发展,三都县法院制定出台了《家事诉讼程序操作规程》《关于婚姻死亡、婚姻危机客观标准意见》等文件,并鼓励家事法官针对不同类型的家事案件,灵活探索适用契合实际的诉讼程序制度,同时,对已进入司法程序的案件实行繁简分流。\n",
      "据统计,三都县法院自试点改革以来,共受理家事案件952件(离婚案件834件),审结884件,结案率92.86%。其中,调解400件,撤诉147件,调撤率61.88%。\n",
      "联席制度化解家事纠纷\n",
      "“以后我再也不打媳妇了……”今年初,在法官、妇联、公安、司法、民政、村两委等多部门工作人员的共同见证下,陈某签下保证书,妻子肖某也撤回了自己的离婚起诉。\n",
      "陈某在水族抢亲习俗时将肖某“抢”回家,办了结婚手续。婚后,陈某不做家务,还常常殴打妻子。2016年,肖某加入镇里的“水族马尾绣协会”,因为手艺好,常常外出参加展演活动,男方心理不平衡,怀疑其有外遇,于是经常殴打女方。2017年2月,肖某正式提出离婚。\n",
      "“古语说得好,清官难断家务事,家事审判尤其是婚姻案件的审判,有别于其他类型案件。因此,我们将离婚诉讼分婚姻危机和死亡婚姻两大类,对于婚姻危机情况适用冷静期制度,通过感情冷静期修复感情裂痕,而对于死亡婚姻,则侧重未成年人子女权益保护和财产分割。”王颖说,联席制度是在推进家事审判工作中的一项创新举措,其目的是为了借助各方资源力量,共同挽救、恢复婚姻,以确保家庭“细胞”的和睦稳定。\n",
      "在家事审判改革中,黔南州两级法院紧紧依靠党委领导,依托联席会议制度,加强政法委、妇联、检察、公安、司法、民政等多部门联合协作,以调解为切入点,建立诉调对接平台,组建家事调解委员会,通过诉前调解、委托调解、诉中调解等多种形式,并建立案件回访机制、反家暴联动机制等,构建司法、行政和社会调解的家事纠纷多元化解工作格局。\n",
      "离婚案件孩子有权诉说\n",
      "“爸,妈,离了吧!你们‘如此相濡以沫’,还不如相忘于江湖。”\n",
      "前不久,黔南州都匀市人民法院在审理一起持续多年的“拉锯式”离婚案中,承办法官引导原被告儿子倾诉出多年来一直压制的心声。这句心声,也表达了儿子对父母感情彻底破裂,又不果断分开的困扰和痛苦。\n",
      "最终,被告痛哭流泣,深深体会到自己多年来的执著给孩子造成的创伤,终于放弃了明显过高的要求,与原告协议离婚。\n",
      "2017年以来,黔南中院通过召开院党组会统筹、全州法院院长座谈会安排、组织系统内巡回观摩会督查等形式,全面推开家事审判工作,形成了各富特色的家事审判方式。\n",
      "引入婚生子女参与离婚案件,便是都匀市法院在推进家事少年审判工作中的一项创新。\n",
      "这样的创新实例,在黔南州各地法院层出不穷。长顺县人民法院引入家事调查员制度,聘任多名家事调查员协助调查家事纠纷,为案件审理提供依据。贵定县人民法院将妇联干部任命为家事案件的人民陪审员,直接进入审判一线参与家事案件的审理。荔波县人民法院在处理家事纠纷时,探索对家事纠纷进行性质评估,通过发出人身保护令,限制家庭暴力行为,有效保护多名受暴妇女合法权益。\n",
      "“下一步,黔南州法院系统将结合实际,进一步深化家事审判方式和工作机制改革,充分发挥司法职能,妥善化解婚姻家庭纠纷,积极服务和保障家庭文明建设,维护家庭和谐和社会稳定。”黔南中院院长王亮海说。（记者 王家梁 通讯员 王果 吴光雷）\n"
     ]
    }
   ],
   "source": [
    "for paragraph in words:\n",
    "    print(paragraph.text)"
   ]
  },
  {
   "cell_type": "code",
   "execution_count": 173,
   "metadata": {},
   "outputs": [
    {
     "name": "stdout",
     "output_type": "stream",
     "text": [
      "习近平同志在党的十九大报告中提出“实施健康中国战略”，这是以习近平同志为核心的党中央从长远发展和时代前沿出发，坚持和发展新时代中国特色社会主义的一项重要战略安排，必将为全面建成小康社会和把我国建成富强民主文明和谐美丽的社会主义现代化强国打下坚实健康根基。我们要坚决贯彻中央决策部署，凝心聚力，扎实推进，一步一步把美好愿景变为现实。\n",
      "深刻把握实施健康中国战略在新时代中国特色社会主义事业中的重要意义和作用\n",
      "党的十九大报告指出，“人民健康是民族昌盛和国家富强的重要标志。”这体现了我们党对人民健康重要价值和作用的认识达到新高度。实施健康中国战略，增进人民健康福祉，事关人的全面发展、社会全面进步，事关“两个一百年”奋斗目标的实现，必须从国家层面统筹谋划推进。\n",
      "这是新时代经济社会协调发展的必然要求。健康的、受过良好教育的劳动者是经济发展最重要的人力资源。“投资于健康”可以有效提高劳动力工作年限和劳动生产率，促进“人口红利”更多转化为“健康红利”，降低人口老龄化对劳动力结构的负面影响，延长重要战略机遇期。完善健康保障，深化供给侧结构性改革，可以解除群众后顾之忧，有利于释放投资和消费需求，拉动增长、扩大就业。实施健康中国战略，将为经济社会协调发展注入新活力。\n",
      "这是实现人民对美好生活新期盼的重要支撑。随着人民生活水平从小康向富裕过渡以及健康意识的增强，人们更加追求生活质量、关注健康安全，不仅要求看得上病、看得好病，更希望不得病、少得病，看病更舒心、服务更体贴，这必然带来层次更高、覆盖范围更广的全民健康需求。实施健康中国战略，可以更加精准对接和满足群众多层次、多样化、个性化的健康需求。\n",
      "这是维护国家安全与社会稳定的必备条件。随着经济全球化深入发展，传染病疫情、抗生素耐药等跨国播散的公共安全威胁日益严峻。如果出现重大疾病流行而解决不好，就会造成人心恐慌、社会不稳，甚至消解经济社会多年建设成果。实施健康中国战略，保证人人享有基本医疗卫生服务，是党和政府义不容辞的职责。\n",
      "这是医疗卫生事业改革发展的内在要求。党的十八大以来，我国医疗卫生事业获得长足发展，深化医药卫生体制改革取得突破性进展，人民健康和医疗卫生水平大幅提高，主要健康指标优于中高收入国家平均水平。同时，随着工业化、城镇化、人口老龄化进程加快，疾病谱、生态环境、生活方式等发生变化，我国面临多重疾病威胁并存、多种影响因素交织的复杂局面，医疗卫生事业发展不平衡不充分与人民健康需求之间的矛盾比较突出。实施健康中国战略，就是要坚持问题和需求双导向，最大限度降低健康危险因素，全面提升医疗卫生发展水平。\n",
      "准确把握实施健康中国战略的核心要义和基本思路\n",
      "建设健康中国是习近平新时代中国特色社会主义思想的重要组成部分。我们必须全面、系统、准确地把握健康中国战略的核心要义和基本思路，统筹解决好人民群众最关心最直接最现实的健康问题。\n",
      "坚持以人民为中心，把人民健康放在优先发展的战略位置。一人之健康是立身之本，人民之健康是立国之基。把人民健康放在优先发展的战略位置，就是把健康优先体现在社会生活全过程，经济社会发展规划中突出健康目标，公共政策制定实施中向健康倾斜，财政投入上保障健康需求，切实维护人民健康权益。\n",
      "贯彻新发展理念，坚持新时代卫生与健康工作方针。坚持预防为主、中西医并重等实践证明行之有效的指导思想；强调以基层为重点，推动工作重心下移、资源下沉到农村和城市社区，突出以改革创新为动力，以自我革命的精神，用中国办法破解医改世界性难题；特别倡导把健康融入所有政策，人民共建共享，推动政府、全社会、人民群众共同行动，激发积极性和创造力，实现“人人参与、人人尽力、人人享有”。\n",
      "完善国民健康政策，全方位、全周期维护人民健康。以提高人民健康水平为核心，从健康影响因素的广泛性出发，转变卫生与健康发展方式，加快基本医疗卫生与健康促进法立法进程，把健康融入所有政策，将维护人民健康的范畴从传统的疾病防治拓展到生态环境保护、体育健身、职业安全、意外伤害、食品药品安全等领域，普及健康生活、优化健康服务、完善健康保障、建设健康环境、发展健康产业，实现对生命全程的健康服务和健康保障。\n",
      "促进社会公平正义，坚持基本医疗卫生事业的公益性。毫不动摇把公益性写在医疗卫生事业的旗帜上，正确处理政府与市场、基本与非基本的关系，绝不走全盘市场化、商业化的路子。政府承担好公共卫生和基本医疗服务等组织管理职责，切实履行好领导、保障、管理和监督的办医责任，同时注重发挥竞争机制作用。在非基本医疗卫生服务领域，充分发挥市场配置资源作用，鼓励社会力量增加服务供给、优化结构。\n",
      "把实施健康中国战略各项重点任务落到实处\n",
      "党的十九大报告对“实施健康中国战略”作出全面部署。我们要全面贯彻党的十九大精神，以习近平新时代中国特色社会主义思想为指导，按照习近平同志在全国卫生与健康大会上的重要讲话要求，采取针对性更强、覆盖面更大、作用更直接、效果更明显的举措，确保健康中国战略落到实处。\n",
      "深化医药卫生体制改革，全面建立中国特色基本医疗卫生制度。更加注重改革的整体性、系统性、协调性，更加注重医疗、医保、医药“三医”联动，以建机制为重点，加快五项基本医疗卫生制度建设，努力用中国办法破解医改世界性难题。\n",
      "全面建立分级诊疗制度。优化医疗资源结构和布局，明确各级各类医疗卫生机构的功能定位，建立管理紧密型城市医疗集团、县域医疗共同体、区域专科联盟、远程医疗协作等多种形式的医疗联合体，提高医疗资源利用效率和整体效益，加快构建优质高效的整合型医疗卫生服务体系，形成科学合理的就医秩序，为居民提供一体化、连续性的健康管理和基本医疗服务。2020年搭建形成“基层首诊、双向转诊、急慢分治、上下联动”的分级诊疗制度框架。\n",
      "健全现代医院管理制度。巩固公立医院全面取消“以药补医”成果。明确政府办医职责，落实公立医院经营管理自主权。科学调整医疗服务价格，体现医务人员劳动价值。各级各类医院要制定章程，健全决策、管理等制度，提升医疗质量和医疗安全，开展便民惠民服务，持续改善医疗服务。落实“两个允许”，建立符合行业特点的人事薪酬制度。强化医院党的建设，加强医德医风建设，弘扬崇高职业精神。到2020年基本建立“权责清晰、管理科学、治理完善、运行高效、监督有力”的现代医院管理制度。\n",
      "健全全民医疗保障制度。完善医保筹资和待遇调整机制，实施好城乡居民基本医保“六统一”政策，完善统一的城乡居民基本医疗保险制度和大病保险制度，加强制度间衔接。实现群众异地就医基本医保直接结算。逐步在公立医院推行按病种付费为主的复合型付费方式改革，同步推进临床路径管理，严控医疗费用不合理增长。落实商业保险机构承办大病保险，支持其参与基本医保经办服务。\n",
      "健全药品供应保障制度。完善并落实药品生产、流通、使用各环节政策，鼓励新药研发，加快推进已上市仿制药质量和疗效一致性评价，采取定点生产、市场撮合等措施健全短缺药品供应保障机制。完善药品、耗材集中采购机制，推进国家药品价格谈判，推行药品采购“两票制”，降低虚高价格。完善基本药物制度，加强药品特别是抗菌药物使用管理，规范用药行为。\n",
      "建立健全综合监管制度。构建集中、专业、高效的监管体系，实现全行业覆盖。强化事中事后监管，推进“双随机、一公开”，提高依法执业水平，主动接受社会监督。健全行业法规标准体系，强化医务人员依法执业、患者依法就医、医患纠纷依法处理，坚决打击涉医违法犯罪活动，形成全社会尊医重卫的氛围。\n",
      "以强基层为重点，促进医疗卫生工作重心下移、资源下沉。加强基层医疗卫生服务体系建设，多措并举把更多的人才技术引向基层、财力物力投向基层、优惠政策倾斜基层，促进基层“软件”和“硬件”双提升。深化医教协同，制定实施卫生人才培育培训规划，加强全科医生队伍建设，做实做好家庭医生（团队）签约服务，为群众提供综合、连续、协同的基本医疗卫生服务。\n",
      "坚持预防为主，全面提升公共卫生服务水平。大力抓好健康促进，广泛开展“三减三健”行动和全民健身运动，倡导健康文明生活方式，塑造自主自律健康行为。坚持防治结合，因病施策，实施扩大国家免疫规划，有效防控各类重大疾病。深入实施基本和重大公共卫生服务项目。加强老年人、妇幼、残疾人、流动人口等重点人群健康工作。深入开展爱国卫生运动，综合整治城乡环境卫生，推进健康城市、村镇、社区、学校、家庭等建设。加强大气、水、土壤、工业污染等治理，建设有利于健康的生态环境。实施食品安全战略，让人民吃得放心。深入实施健康扶贫工程，不让一名群众因健康问题在奔小康的征程中掉队。\n",
      "坚持中西医并重，传承发展中医药事业。落实中医药法律法规，建立健全适合中医药发展的政策体系、管理体系、标准体系和评价体系，发挥中医药在健康养生、治未病中的主导作用，在疾病治疗、康复中的独特作用。实施中医药传承创新工程，加强古籍、传统知识和诊疗技术保护、抢救及整理。发展中医保健服务，加快中医药走出去步伐。\n",
      "发展健康产业，满足人民群众多样化健康需求。按照“放管服”改革要求，消除政策障碍，鼓励社会力量提供卫生与健康服务。推动医疗服务与旅游、互联网、体育、食品行业等深度融合。深化“互联网+健康医疗”服务，促进和规范健康医疗大数据应用。深化“医科协同”“医工协同”，加快医学与健康科技成果转化，打造核心竞争力强的医药工业。\n",
      "完善人口政策，促进人口均衡发展与家庭和谐幸福。继续实施好全面两孩政策，充分发挥政策效应。健全完善税收、住房、就业、家庭发展、托幼服务等社会经济政策，与生育政策配套衔接，加强生育全程基本医疗保健服务。加强人口发展战略研究，开展生育意愿调查和全面两孩政策评估工作，科学研判人口形势。从实际情况出发，营造有利于经济社会协调发展和人的全面发展的人口环境，进一步提高人口素质，强化人力资本优势。实施健康老龄化工程，健全医疗卫生机构与养老机构合作机制，支持社会力量兴办医养结合机构，提供康复、护理、安宁疗护等多种形式的健康养老服务。\n",
      "《 人民日报 》（ 2018年01月12日 07 版）\n"
     ]
    }
   ],
   "source": [
    "# for cpc urls\n",
    "\n",
    "box_of_words = driver.find_element_by_class_name('show_text')\n",
    "words = box_of_words.find_elements_by_tag_name('p')\n",
    "\n",
    "for paragraph in words:\n",
    "    print(paragraph.text)"
   ]
  },
  {
   "cell_type": "code",
   "execution_count": null,
   "metadata": {},
   "outputs": [],
   "source": []
  },
  {
   "cell_type": "code",
   "execution_count": null,
   "metadata": {},
   "outputs": [],
   "source": []
  },
  {
   "cell_type": "code",
   "execution_count": null,
   "metadata": {},
   "outputs": [],
   "source": []
  }
 ],
 "metadata": {
  "kernelspec": {
   "display_name": "Python 3",
   "language": "python",
   "name": "python3"
  },
  "language_info": {
   "codemirror_mode": {
    "name": "ipython",
    "version": 3
   },
   "file_extension": ".py",
   "mimetype": "text/x-python",
   "name": "python",
   "nbconvert_exporter": "python",
   "pygments_lexer": "ipython3",
   "version": "3.6.5"
  }
 },
 "nbformat": 4,
 "nbformat_minor": 2
}
